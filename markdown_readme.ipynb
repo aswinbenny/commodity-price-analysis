{
 "cells": [
  {
   "cell_type": "markdown",
   "id": "85290f70",
   "metadata": {},
   "source": [
    "Data Filtering Decisions and Impact\n",
    "\t1.\tMinimum Record Cutoff (≥50 arrival records)\n",
    "\t•\tBefore filtering: 583 unique Product_Type × Market combinations\n",
    "\t•\tAfter filtering: 402 combinations\n",
    "\t•\tDropped: 181 combinations (31%)\n",
    "\t•\tRows remaining: 166,028\n",
    "Reason: Combinations with fewer than 50 records are too sparse to support stable correlation or variance analysis.\n",
    "\t2.\tExclusion of Rows with No Significant Features\n",
    "\t•\tIdentified by: important_features == \"None\"\n",
    "\t•\tCount: 110 rows removed out of 166,028 (0.066%)\n",
    "\t•\tRows remaining after both filters: 165,918\n",
    "\t•\tInterpretation: These rows had negligible explanatory power (all eta² and omega² near 0).\n",
    "\t•\tDecision: Excluded to focus on meaningful feature effects.\n"
   ]
  }
 ],
 "metadata": {
  "language_info": {
   "name": "python"
  }
 },
 "nbformat": 4,
 "nbformat_minor": 5
}
