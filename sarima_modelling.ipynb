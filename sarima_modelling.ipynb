{
 "cells": [
  {
   "cell_type": "code",
   "execution_count": null,
   "id": "c0bb54d9",
   "metadata": {},
   "outputs": [],
   "source": [
    "import pandas as pd\n",
    "import numpy as np\n",
    "\n",
    "from utils.load_data import load_data\n",
    "from utils.data_splitter import DataSplitter\n",
    "\n",
    "df = load_data('data/commodity_prices.csv')"
   ]
  },
  {
   "cell_type": "code",
   "execution_count": null,
   "id": "6de28836",
   "metadata": {},
   "outputs": [],
   "source": [
    "date_dict = {\n",
    "    'train_start': \"2023-06-01\", 'train_end': \"2025-06-30\",\n",
    "    'valid_start': \"2025-07-01\", 'valid_end': \"2025-07-31\",\n",
    "    'test_start': \"2025-08-01\", 'test_end': \"2025-08-18\"\n",
    "}\n",
    "\n",
    "thresholds = {\n",
    "    'train': 100,\n",
    "    'valid': 10,\n",
    "    'test': 5\n",
    "}\n",
    "\n",
    "splitter = DataSplitter(df, date_dict, thresholds)\n",
    "train_df, valid_df, test_df = splitter.run()"
   ]
  }
 ],
 "metadata": {
  "language_info": {
   "name": "python"
  }
 },
 "nbformat": 4,
 "nbformat_minor": 5
}
