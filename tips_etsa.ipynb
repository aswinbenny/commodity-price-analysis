{
 "cells": [
  {
   "cell_type": "markdown",
   "id": "d44a24df",
   "metadata": {},
   "source": [
    "1. Spotting outliers and anomalies\n",
    "\t•\tOutliers can throw off many statistical models (especially if they’re sensitive to extreme values like ARIMA or regression).\n",
    "\t•\tETSA tells you whether to:\n",
    "\t•\tRemove them (if they’re errors)\n",
    "\t•\tKeep them (if they’re true extreme events, like sudden market shocks)\n",
    "\t•\tModel them separately (if they’re due to special causes like festival spikes).\n",
    "\n",
    "⸻\n",
    "\n",
    "2. Understanding seasonality & trends\n",
    "\t•\tYou don’t want to “blindly” throw seasonal features into a model. ETSA helps you see if seasonality exists, and at what frequency (weekly, monthly, yearly).\n",
    "\t•\tExample: If prices for a vegetable spike during Onam season every year in Ernakulam, your model can use a seasonal dummy variable or Fourier terms.\n",
    "\n",
    "⸻\n",
    "\n",
    "3. Choosing the right modelling approach\n",
    "\t•\tStrong seasonality? → SARIMA, Prophet, seasonal decomposition, or tree-based models with seasonal lags.\n",
    "\t•\tNo seasonality but clear trend? → Non-seasonal ARIMA, polynomial trends, or differencing.\n",
    "\t•\tHigh noise? → Maybe a simpler baseline is best, or heavy regularization in ML models.\n",
    "\n",
    "⸻\n",
    "\n",
    "4. Refining data engineering strategy\n",
    "\t•\tIf ETSA shows that certain products behave differently in different markets, you might:\n",
    "\t•\tModel them separately.\n",
    "\t•\tCreate interaction features like Product × Market or Market × Season.\n",
    "\t•\tThis makes modelling more context-aware instead of one-size-fits-all.\n",
    "\n",
    "⸻\n",
    "\n"
   ]
  },
  {
   "cell_type": "markdown",
   "id": "faa6d6d9",
   "metadata": {},
   "source": []
  }
 ],
 "metadata": {
  "language_info": {
   "name": "python"
  }
 },
 "nbformat": 4,
 "nbformat_minor": 5
}
