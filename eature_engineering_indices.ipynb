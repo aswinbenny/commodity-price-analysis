{
 "cells": [
  {
   "cell_type": "code",
   "execution_count": null,
   "id": "07cd6d0e",
   "metadata": {},
   "outputs": [],
   "source": [
    "import pandas as pd\n",
    "\n",
    "from utils.wrangle import wrangle\n",
    "\n",
    "df = pd.read_csv('data/commodity_prices.csv')\n",
    "df = wrangle(df)"
   ]
  },
  {
   "cell_type": "code",
   "execution_count": null,
   "id": "7c7fe1a5",
   "metadata": {},
   "outputs": [],
   "source": [
    "# 1. Calculate average price per product & season\n",
    "seasonal_avg = (\n",
    "    df.groupby(['Product_Type', 'Season'])['Modal_Price']\n",
    "      .mean()\n",
    "      .reset_index(name='Seasonal_avg_price')\n",
    ")\n",
    "# Get overall mean per product\n",
    "overall_mean = (\n",
    "    df.groupby('Product_Type')['Modal_Price']\n",
    "      .mean()\n",
    "      .reset_index()\n",
    "      .rename(columns={'Modal_Price': 'Overall_Mean'})\n",
    ")\n",
    "\n",
    "# Merge overall mean into seasonal averages\n",
    "seasonal_avg = seasonal_avg.merge(overall_mean, on='Product_Type')\n",
    "\n",
    "# Calculate seasonal index\n",
    "seasonal_avg['Seasonal_Index'] = (\n",
    "    seasonal_avg['Seasonal_avg_price'] / seasonal_avg['Overall_Mean']\n",
    ")\n",
    "\n",
    "seasonal_avg.head(10)"
   ]
  },
  {
   "cell_type": "code",
   "execution_count": null,
   "id": "cc515fa5",
   "metadata": {},
   "outputs": [],
   "source": []
  },
  {
   "cell_type": "code",
   "execution_count": null,
   "id": "3231cba4",
   "metadata": {},
   "outputs": [],
   "source": [
    "# Get market ranking\n",
    "fe_params = result.fe_params\n",
    "market_ranking = fe_params.filter(like='C(Market)')\n",
    "market_ranking.index = market_ranking.index.str.replace('C(Market)[T.', '').str.replace(']', '')\n",
    "market_ranking['Aluva'] = 0  # Add Aluva as baseline\n",
    "market_ranking.sort_values(ascending=True, inplace=True)\n",
    "print(market_ranking)"
   ]
  }
 ],
 "metadata": {
  "language_info": {
   "name": "python"
  }
 },
 "nbformat": 4,
 "nbformat_minor": 5
}
