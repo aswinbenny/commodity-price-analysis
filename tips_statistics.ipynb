{
 "cells": [
  {
   "cell_type": "markdown",
   "id": "bd683edf",
   "metadata": {},
   "source": [
    "A more advanced strategy (step by step)\n",
    "\n",
    "Step 1. Within-product effect size instead of just significance\n",
    "\t•\tSignificance (p-values, F-tests) are tricky when groups have very different sample sizes.\n",
    "\t•\tInstead, measure effect size for each factor within each product.\n",
    "\t•\tExamples:\n",
    "\t•\tη² (eta squared) or partial η² from ANOVA → “proportion of variance explained by factor”\n",
    "\t•\tIntraclass correlation (ICC) for market effect → tells how much variance comes from between-markets vs within-markets\n",
    "\t•\tYear-on-year R² → how much of the variance is explained by year\n",
    "\n",
    "So for each product, instead of “is it significant?” you get how strong is this dependency.\n",
    "\n",
    "⸻\n",
    "\n",
    "Step 2. Standardize across products\n",
    "\t•\tA product might only exist in 2 markets. Another might be in 15.\n",
    "\t•\tTo compare, compute the relative effect size (like % variance explained) rather than absolute test statistics.\n",
    "\t•\tThat way, both products can still be compared on “season explains 30% of variance” vs “market explains 5%”.\n",
    "\n",
    "⸻\n",
    "\n",
    "Step 3. Summarize each product’s dependency profile\n",
    "\n",
    "For each product, create a small vector like:"
   ]
  },
  {
   "cell_type": "markdown",
   "id": "5c324399",
   "metadata": {},
   "source": [
    "[Var_explained_by_season, Var_explained_by_market, Var_explained_by_year]"
   ]
  },
  {
   "cell_type": "markdown",
   "id": "352220b2",
   "metadata": {},
   "source": [
    "\t•\tThese are percentages (0–1).\n",
    "\t•\tMissing categories are handled naturally (if a product is never sold in summer → season effect might still be low, and that’s part of its profile).\n",
    "\n",
    "⸻\n",
    "\n",
    "Step 4. Grouping / clustering\n",
    "\t•\tCluster products based on these profiles.\n",
    "\t•\tExample:\n",
    "\t•\tCluster A: Season-dominated products (price changes strongly across seasons)\n",
    "\t•\tCluster B: Market-dominated products\n",
    "\t•\tCluster C: Year trend dominated products\n",
    "\t•\tCluster D: Weakly dependent products\n"
   ]
  }
 ],
 "metadata": {
  "kernelspec": {
   "display_name": ".venv",
   "language": "python",
   "name": "python3"
  },
  "language_info": {
   "name": "python",
   "version": "3.10.11"
  }
 },
 "nbformat": 4,
 "nbformat_minor": 5
}
