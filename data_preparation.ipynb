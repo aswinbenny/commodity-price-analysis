{
 "cells": [
  {
   "cell_type": "code",
   "execution_count": 1,
   "id": "3f3ae118",
   "metadata": {},
   "outputs": [],
   "source": [
    "import pandas as pd\n",
    "\n",
    "\n",
    "from utils.load_data import load_data\n",
    "from utils.data_splitter import DataSplitter\n",
    "\n",
    "pd.set_option('display.max_columns', None)\n",
    "pd.set_option('display.max_rows', None)\n",
    "\n",
    "df = load_data('data/commodity_prices.csv')\n",
    "df_grouped = pd.read_csv('data/important_feature_groups.csv')"
   ]
  },
  {
   "cell_type": "code",
   "execution_count": 2,
   "id": "c4941360",
   "metadata": {},
   "outputs": [],
   "source": [
    "date_dict = {\n",
    "    'train_start': \"2023-06-01\", 'train_end': \"2025-06-30\",\n",
    "    'valid_start': \"2025-07-01\", 'valid_end': \"2025-07-31\",\n",
    "    'test_start': \"2025-08-01\", 'test_end': \"2025-08-18\"\n",
    "}\n",
    "\n",
    "thresholds = {\n",
    "    'train': 100,\n",
    "    'valid': 10,\n",
    "    'test': 5\n",
    "}\n",
    "\n",
    "splitter = DataSplitter(df, date_dict, thresholds)\n",
    "train_df, valid_df, test_df = splitter.run()"
   ]
  },
  {
   "cell_type": "code",
   "execution_count": 3,
   "id": "abaed8ea",
   "metadata": {},
   "outputs": [
    {
     "data": {
      "text/plain": [
       "((140521, 9), (6639, 9), (3677, 9))"
      ]
     },
     "execution_count": 3,
     "metadata": {},
     "output_type": "execute_result"
    }
   ],
   "source": [
    "train_df.shape, valid_df.shape, test_df.shape, "
   ]
  },
  {
   "cell_type": "code",
   "execution_count": 23,
   "id": "5d90c37a",
   "metadata": {},
   "outputs": [
    {
     "data": {
      "text/html": [
       "<div>\n",
       "<style scoped>\n",
       "    .dataframe tbody tr th:only-of-type {\n",
       "        vertical-align: middle;\n",
       "    }\n",
       "\n",
       "    .dataframe tbody tr th {\n",
       "        vertical-align: top;\n",
       "    }\n",
       "\n",
       "    .dataframe thead th {\n",
       "        text-align: right;\n",
       "    }\n",
       "</style>\n",
       "<table border=\"1\" class=\"dataframe\">\n",
       "  <thead>\n",
       "    <tr style=\"text-align: right;\">\n",
       "      <th></th>\n",
       "      <th>Product_Type</th>\n",
       "      <th>Commodity</th>\n",
       "      <th>Variety_Type</th>\n",
       "      <th>Arrival_Date</th>\n",
       "      <th>Market</th>\n",
       "      <th>Is_VFPCK</th>\n",
       "      <th>Season</th>\n",
       "      <th>Year</th>\n",
       "      <th>Modal_Price</th>\n",
       "      <th>log_Modal_Price</th>\n",
       "      <th>Max_Price</th>\n",
       "      <th>Min_Price</th>\n",
       "    </tr>\n",
       "  </thead>\n",
       "  <tbody>\n",
       "    <tr>\n",
       "      <th>0</th>\n",
       "      <td>Alsandikai|Alsandikai|FAQ</td>\n",
       "      <td>Alsandikai</td>\n",
       "      <td>Alsandikai|Alsandikai</td>\n",
       "      <td>2023-12-13</td>\n",
       "      <td>North Paravur</td>\n",
       "      <td>False</td>\n",
       "      <td>Winter</td>\n",
       "      <td>2023</td>\n",
       "      <td>5200.0</td>\n",
       "      <td>8.556606</td>\n",
       "      <td>6000.0</td>\n",
       "      <td>5000.0</td>\n",
       "    </tr>\n",
       "    <tr>\n",
       "      <th>1</th>\n",
       "      <td>Alsandikai|Alsandikai|FAQ</td>\n",
       "      <td>Alsandikai</td>\n",
       "      <td>Alsandikai|Alsandikai</td>\n",
       "      <td>2023-12-14</td>\n",
       "      <td>North Paravur</td>\n",
       "      <td>False</td>\n",
       "      <td>Winter</td>\n",
       "      <td>2023</td>\n",
       "      <td>6200.0</td>\n",
       "      <td>8.732466</td>\n",
       "      <td>6500.0</td>\n",
       "      <td>6000.0</td>\n",
       "    </tr>\n",
       "    <tr>\n",
       "      <th>2</th>\n",
       "      <td>Alsandikai|Alsandikai|FAQ</td>\n",
       "      <td>Alsandikai</td>\n",
       "      <td>Alsandikai|Alsandikai</td>\n",
       "      <td>2023-12-16</td>\n",
       "      <td>North Paravur</td>\n",
       "      <td>False</td>\n",
       "      <td>Winter</td>\n",
       "      <td>2023</td>\n",
       "      <td>4800.0</td>\n",
       "      <td>8.476580</td>\n",
       "      <td>5600.0</td>\n",
       "      <td>4600.0</td>\n",
       "    </tr>\n",
       "    <tr>\n",
       "      <th>3</th>\n",
       "      <td>Alsandikai|Alsandikai|FAQ</td>\n",
       "      <td>Alsandikai</td>\n",
       "      <td>Alsandikai|Alsandikai</td>\n",
       "      <td>2023-12-18</td>\n",
       "      <td>North Paravur</td>\n",
       "      <td>False</td>\n",
       "      <td>Winter</td>\n",
       "      <td>2023</td>\n",
       "      <td>3500.0</td>\n",
       "      <td>8.160804</td>\n",
       "      <td>4500.0</td>\n",
       "      <td>3000.0</td>\n",
       "    </tr>\n",
       "    <tr>\n",
       "      <th>4</th>\n",
       "      <td>Alsandikai|Alsandikai|FAQ</td>\n",
       "      <td>Alsandikai</td>\n",
       "      <td>Alsandikai|Alsandikai</td>\n",
       "      <td>2023-12-19</td>\n",
       "      <td>North Paravur</td>\n",
       "      <td>False</td>\n",
       "      <td>Winter</td>\n",
       "      <td>2023</td>\n",
       "      <td>5500.0</td>\n",
       "      <td>8.612685</td>\n",
       "      <td>6000.0</td>\n",
       "      <td>5500.0</td>\n",
       "    </tr>\n",
       "  </tbody>\n",
       "</table>\n",
       "</div>"
      ],
      "text/plain": [
       "                Product_Type   Commodity           Variety_Type Arrival_Date  \\\n",
       "0  Alsandikai|Alsandikai|FAQ  Alsandikai  Alsandikai|Alsandikai   2023-12-13   \n",
       "1  Alsandikai|Alsandikai|FAQ  Alsandikai  Alsandikai|Alsandikai   2023-12-14   \n",
       "2  Alsandikai|Alsandikai|FAQ  Alsandikai  Alsandikai|Alsandikai   2023-12-16   \n",
       "3  Alsandikai|Alsandikai|FAQ  Alsandikai  Alsandikai|Alsandikai   2023-12-18   \n",
       "4  Alsandikai|Alsandikai|FAQ  Alsandikai  Alsandikai|Alsandikai   2023-12-19   \n",
       "\n",
       "          Market  Is_VFPCK  Season  Year  Modal_Price  log_Modal_Price  \\\n",
       "0  North Paravur     False  Winter  2023       5200.0         8.556606   \n",
       "1  North Paravur     False  Winter  2023       6200.0         8.732466   \n",
       "2  North Paravur     False  Winter  2023       4800.0         8.476580   \n",
       "3  North Paravur     False  Winter  2023       3500.0         8.160804   \n",
       "4  North Paravur     False  Winter  2023       5500.0         8.612685   \n",
       "\n",
       "   Max_Price  Min_Price  \n",
       "0     6000.0     5000.0  \n",
       "1     6500.0     6000.0  \n",
       "2     5600.0     4600.0  \n",
       "3     4500.0     3000.0  \n",
       "4     6000.0     5500.0  "
      ]
     },
     "execution_count": 23,
     "metadata": {},
     "output_type": "execute_result"
    }
   ],
   "source": [
    "df.head()"
   ]
  },
  {
   "cell_type": "code",
   "execution_count": 24,
   "id": "fac2cae8",
   "metadata": {},
   "outputs": [
    {
     "data": {
      "text/plain": [
       "(402, 3)"
      ]
     },
     "execution_count": 24,
     "metadata": {},
     "output_type": "execute_result"
    }
   ],
   "source": [
    "df.groupby(['Product_Type', 'Market']).size().reset_index().shape"
   ]
  },
  {
   "cell_type": "markdown",
   "id": "cd2c98a1",
   "metadata": {},
   "source": [
    "## Filtering Sparse Groups\n",
    "\n",
    "We analyzed the number of observations per Commodity–Market group across the train, validation, and test periods.  \n",
    "\n",
    "- Groups with **insufficient data** (train ≤ 100, validation ≤ 10, test ≤ 5) were removed.  \n",
    "- This ensures that classical time series models (SARIMA/Prophet) and ML models have enough historical points to learn patterns and be evaluated reliably.  \n",
    "\n",
    "**Result:** 109 sparse groups were excluded. Remaining groups have sufficient data for modeling."
   ]
  },
  {
   "cell_type": "code",
   "execution_count": 25,
   "id": "477d5723",
   "metadata": {},
   "outputs": [],
   "source": [
    "train_start, train_end = \"2023-06-01\", \"2025-06-30\"\n",
    "valid_start, valid_end = \"2025-07-01\", \"2025-07-31\"\n",
    "test_start, test_end = \"2025-08-01\", \"2025-08-18\"\n",
    "\n",
    "def assign_split(date):\n",
    "    if train_start <= date.strftime(\"%Y-%m-%d\") <= train_end:\n",
    "        return \"train\"\n",
    "    elif valid_start <= date.strftime(\"%Y-%m-%d\") <= valid_end:\n",
    "        return \"valid\"\n",
    "    else:\n",
    "        return \"test\"\n",
    "\n",
    "df['Split'] = df['Arrival_Date'].apply(assign_split)\n",
    "\n",
    "group_counts = (\n",
    "    df.groupby([\"Product_Type\", \"Market\", \"Split\"])\n",
    "      .size()\n",
    "      .unstack(fill_value=0)\n",
    "      .reset_index()\n",
    ")\n",
    "\n",
    "group_counts = group_counts[\n",
    "    ~((group_counts['train'] <= 100) |\n",
    "      (group_counts['valid'] <= 10) |\n",
    "      (group_counts['test'] <= 5))\n",
    "]\n",
    "group_counts.shape\n",
    "\n",
    "df = df.merge(group_counts, on=['Product_Type', 'Market'], how='right')"
   ]
  },
  {
   "cell_type": "code",
   "execution_count": 21,
   "id": "e52ec81e",
   "metadata": {},
   "outputs": [
    {
     "data": {
      "text/html": [
       "<div>\n",
       "<style scoped>\n",
       "    .dataframe tbody tr th:only-of-type {\n",
       "        vertical-align: middle;\n",
       "    }\n",
       "\n",
       "    .dataframe tbody tr th {\n",
       "        vertical-align: top;\n",
       "    }\n",
       "\n",
       "    .dataframe thead th {\n",
       "        text-align: right;\n",
       "    }\n",
       "</style>\n",
       "<table border=\"1\" class=\"dataframe\">\n",
       "  <thead>\n",
       "    <tr style=\"text-align: right;\">\n",
       "      <th>Split</th>\n",
       "      <th>Product_Type</th>\n",
       "      <th>Market</th>\n",
       "      <th>test</th>\n",
       "      <th>train</th>\n",
       "      <th>valid</th>\n",
       "    </tr>\n",
       "  </thead>\n",
       "  <tbody>\n",
       "    <tr>\n",
       "      <th>0</th>\n",
       "      <td>Alsandikai|Alsandikai|FAQ</td>\n",
       "      <td>North Paravur</td>\n",
       "      <td>13</td>\n",
       "      <td>435</td>\n",
       "      <td>23</td>\n",
       "    </tr>\n",
       "    <tr>\n",
       "      <th>1</th>\n",
       "      <td>Amaranthus|Amaranthus|FAQ</td>\n",
       "      <td>Aluva</td>\n",
       "      <td>11</td>\n",
       "      <td>551</td>\n",
       "      <td>25</td>\n",
       "    </tr>\n",
       "    <tr>\n",
       "      <th>2</th>\n",
       "      <td>Amaranthus|Amaranthus|FAQ</td>\n",
       "      <td>Angamaly</td>\n",
       "      <td>15</td>\n",
       "      <td>533</td>\n",
       "      <td>22</td>\n",
       "    </tr>\n",
       "    <tr>\n",
       "      <th>3</th>\n",
       "      <td>Amaranthus|Amaranthus|FAQ</td>\n",
       "      <td>Broadway market</td>\n",
       "      <td>13</td>\n",
       "      <td>363</td>\n",
       "      <td>18</td>\n",
       "    </tr>\n",
       "    <tr>\n",
       "      <th>4</th>\n",
       "      <td>Amaranthus|Amaranthus|FAQ</td>\n",
       "      <td>Ernakulam</td>\n",
       "      <td>10</td>\n",
       "      <td>485</td>\n",
       "      <td>23</td>\n",
       "    </tr>\n",
       "  </tbody>\n",
       "</table>\n",
       "</div>"
      ],
      "text/plain": [
       "Split               Product_Type           Market  test  train  valid\n",
       "0      Alsandikai|Alsandikai|FAQ    North Paravur    13    435     23\n",
       "1      Amaranthus|Amaranthus|FAQ            Aluva    11    551     25\n",
       "2      Amaranthus|Amaranthus|FAQ         Angamaly    15    533     22\n",
       "3      Amaranthus|Amaranthus|FAQ  Broadway market    13    363     18\n",
       "4      Amaranthus|Amaranthus|FAQ        Ernakulam    10    485     23"
      ]
     },
     "execution_count": 21,
     "metadata": {},
     "output_type": "execute_result"
    }
   ],
   "source": [
    "group_counts.head()"
   ]
  },
  {
   "cell_type": "code",
   "execution_count": 26,
   "id": "eadc0ebf",
   "metadata": {},
   "outputs": [
    {
     "data": {
      "text/html": [
       "<div>\n",
       "<style scoped>\n",
       "    .dataframe tbody tr th:only-of-type {\n",
       "        vertical-align: middle;\n",
       "    }\n",
       "\n",
       "    .dataframe tbody tr th {\n",
       "        vertical-align: top;\n",
       "    }\n",
       "\n",
       "    .dataframe thead th {\n",
       "        text-align: right;\n",
       "    }\n",
       "</style>\n",
       "<table border=\"1\" class=\"dataframe\">\n",
       "  <thead>\n",
       "    <tr style=\"text-align: right;\">\n",
       "      <th></th>\n",
       "      <th>Product_Type</th>\n",
       "      <th>Commodity</th>\n",
       "      <th>Variety_Type</th>\n",
       "      <th>Arrival_Date</th>\n",
       "      <th>Market</th>\n",
       "      <th>Is_VFPCK</th>\n",
       "      <th>Season</th>\n",
       "      <th>Year</th>\n",
       "      <th>Modal_Price</th>\n",
       "      <th>log_Modal_Price</th>\n",
       "      <th>Max_Price</th>\n",
       "      <th>Min_Price</th>\n",
       "      <th>Split</th>\n",
       "      <th>test</th>\n",
       "      <th>train</th>\n",
       "      <th>valid</th>\n",
       "    </tr>\n",
       "  </thead>\n",
       "  <tbody>\n",
       "    <tr>\n",
       "      <th>0</th>\n",
       "      <td>Alsandikai|Alsandikai|FAQ</td>\n",
       "      <td>Alsandikai</td>\n",
       "      <td>Alsandikai|Alsandikai</td>\n",
       "      <td>2023-12-13</td>\n",
       "      <td>North Paravur</td>\n",
       "      <td>False</td>\n",
       "      <td>Winter</td>\n",
       "      <td>2023</td>\n",
       "      <td>5200.0</td>\n",
       "      <td>8.556606</td>\n",
       "      <td>6000.0</td>\n",
       "      <td>5000.0</td>\n",
       "      <td>train</td>\n",
       "      <td>13</td>\n",
       "      <td>435</td>\n",
       "      <td>23</td>\n",
       "    </tr>\n",
       "    <tr>\n",
       "      <th>1</th>\n",
       "      <td>Alsandikai|Alsandikai|FAQ</td>\n",
       "      <td>Alsandikai</td>\n",
       "      <td>Alsandikai|Alsandikai</td>\n",
       "      <td>2023-12-14</td>\n",
       "      <td>North Paravur</td>\n",
       "      <td>False</td>\n",
       "      <td>Winter</td>\n",
       "      <td>2023</td>\n",
       "      <td>6200.0</td>\n",
       "      <td>8.732466</td>\n",
       "      <td>6500.0</td>\n",
       "      <td>6000.0</td>\n",
       "      <td>train</td>\n",
       "      <td>13</td>\n",
       "      <td>435</td>\n",
       "      <td>23</td>\n",
       "    </tr>\n",
       "    <tr>\n",
       "      <th>2</th>\n",
       "      <td>Alsandikai|Alsandikai|FAQ</td>\n",
       "      <td>Alsandikai</td>\n",
       "      <td>Alsandikai|Alsandikai</td>\n",
       "      <td>2023-12-16</td>\n",
       "      <td>North Paravur</td>\n",
       "      <td>False</td>\n",
       "      <td>Winter</td>\n",
       "      <td>2023</td>\n",
       "      <td>4800.0</td>\n",
       "      <td>8.476580</td>\n",
       "      <td>5600.0</td>\n",
       "      <td>4600.0</td>\n",
       "      <td>train</td>\n",
       "      <td>13</td>\n",
       "      <td>435</td>\n",
       "      <td>23</td>\n",
       "    </tr>\n",
       "    <tr>\n",
       "      <th>3</th>\n",
       "      <td>Alsandikai|Alsandikai|FAQ</td>\n",
       "      <td>Alsandikai</td>\n",
       "      <td>Alsandikai|Alsandikai</td>\n",
       "      <td>2023-12-18</td>\n",
       "      <td>North Paravur</td>\n",
       "      <td>False</td>\n",
       "      <td>Winter</td>\n",
       "      <td>2023</td>\n",
       "      <td>3500.0</td>\n",
       "      <td>8.160804</td>\n",
       "      <td>4500.0</td>\n",
       "      <td>3000.0</td>\n",
       "      <td>train</td>\n",
       "      <td>13</td>\n",
       "      <td>435</td>\n",
       "      <td>23</td>\n",
       "    </tr>\n",
       "    <tr>\n",
       "      <th>4</th>\n",
       "      <td>Alsandikai|Alsandikai|FAQ</td>\n",
       "      <td>Alsandikai</td>\n",
       "      <td>Alsandikai|Alsandikai</td>\n",
       "      <td>2023-12-19</td>\n",
       "      <td>North Paravur</td>\n",
       "      <td>False</td>\n",
       "      <td>Winter</td>\n",
       "      <td>2023</td>\n",
       "      <td>5500.0</td>\n",
       "      <td>8.612685</td>\n",
       "      <td>6000.0</td>\n",
       "      <td>5500.0</td>\n",
       "      <td>train</td>\n",
       "      <td>13</td>\n",
       "      <td>435</td>\n",
       "      <td>23</td>\n",
       "    </tr>\n",
       "  </tbody>\n",
       "</table>\n",
       "</div>"
      ],
      "text/plain": [
       "                Product_Type   Commodity           Variety_Type Arrival_Date  \\\n",
       "0  Alsandikai|Alsandikai|FAQ  Alsandikai  Alsandikai|Alsandikai   2023-12-13   \n",
       "1  Alsandikai|Alsandikai|FAQ  Alsandikai  Alsandikai|Alsandikai   2023-12-14   \n",
       "2  Alsandikai|Alsandikai|FAQ  Alsandikai  Alsandikai|Alsandikai   2023-12-16   \n",
       "3  Alsandikai|Alsandikai|FAQ  Alsandikai  Alsandikai|Alsandikai   2023-12-18   \n",
       "4  Alsandikai|Alsandikai|FAQ  Alsandikai  Alsandikai|Alsandikai   2023-12-19   \n",
       "\n",
       "          Market  Is_VFPCK  Season  Year  Modal_Price  log_Modal_Price  \\\n",
       "0  North Paravur     False  Winter  2023       5200.0         8.556606   \n",
       "1  North Paravur     False  Winter  2023       6200.0         8.732466   \n",
       "2  North Paravur     False  Winter  2023       4800.0         8.476580   \n",
       "3  North Paravur     False  Winter  2023       3500.0         8.160804   \n",
       "4  North Paravur     False  Winter  2023       5500.0         8.612685   \n",
       "\n",
       "   Max_Price  Min_Price  Split  test  train  valid  \n",
       "0     6000.0     5000.0  train    13    435     23  \n",
       "1     6500.0     6000.0  train    13    435     23  \n",
       "2     5600.0     4600.0  train    13    435     23  \n",
       "3     4500.0     3000.0  train    13    435     23  \n",
       "4     6000.0     5500.0  train    13    435     23  "
      ]
     },
     "execution_count": 26,
     "metadata": {},
     "output_type": "execute_result"
    }
   ],
   "source": [
    "df.head()"
   ]
  },
  {
   "cell_type": "code",
   "execution_count": null,
   "id": "70fd6750",
   "metadata": {},
   "outputs": [],
   "source": [
    "train_start, train_end = \"2023-06-01\", \"2025-06-30\"\n",
    "valid_start, valid_end = \"2025-07-01\", \"2025-07-31\"\n",
    "test_start, test_end = \"2025-08-01\", \"2025-08-18\"\n",
    "\n",
    "def assign_split(date):\n",
    "    if train_start <= date.strftime(\"%Y-%m-%d\") <= train_end:\n",
    "        return \"train\"\n",
    "    elif valid_start <= date.strftime(\"%Y-%m-%d\") <= valid_end:\n",
    "        return \"valid\"\n",
    "    else:\n",
    "        return \"test\"\n",
    "\n",
    "df['Split'] = df['Arrival_Date'].apply(assign_split)\n",
    "\n",
    "group_counts = (\n",
    "    df.groupby([\"Product_Type\", \"Market\", \"Split\"])\n",
    "      .size()\n",
    "      .unstack(fill_value=0)\n",
    "      .reset_index()\n",
    ")\n",
    "\n",
    "group_counts = group_counts[\n",
    "    ~((group_counts['train'] <= 100) |\n",
    "      (group_counts['valid'] <= 10) |\n",
    "      (group_counts['test'] <= 5))\n",
    "]\n",
    "group_counts.shape\n",
    "\n",
    "df = df.merge(group_counts, on=['Product_Type', 'Market'], how='right')\n",
    "# .drop(columns=['train', 'valid', 'test'])\n",
    "\n",
    "train_df = df[df['Split'] == 'train']\n",
    "valid_df = df[df['Split'] == 'valid']\n",
    "test_df = df[df['Split'] == 'test']\n",
    "\n",
    "\n",
    "\n",
    "def drop_columns(df):\n",
    "    columns_to_drop = ['Split', 'train', 'valid', 'test', 'Modal_Price', 'Max_Price', 'Min_Price']\n",
    "    df = df.drop(columns=columns_to_drop)\n",
    "    return df\n"
   ]
  },
  {
   "cell_type": "code",
   "execution_count": 28,
   "id": "4c55d458",
   "metadata": {},
   "outputs": [],
   "source": [
    "class DataSplitter:\n",
    "\n",
    "    def __init__(self, df, date_dict: dict, thresholds: dict):\n",
    "        self.df = df\n",
    "        self.date_dict = date_dict\n",
    "        self.thresholds = thresholds\n",
    "\n",
    "    def assign_split(self, date):\n",
    "        \"\"\"Assign a split label (train/valid/test) based on date ranges.\"\"\"\n",
    "        if self.date_dict['train_start'] <= date.strftime(\"%Y-%m-%d\") <= self.date_dict['train_end']:\n",
    "            return \"train\"\n",
    "        elif self.date_dict['valid_start'] <= date.strftime(\"%Y-%m-%d\") <= self.date_dict['valid_end']:\n",
    "            return \"valid\"\n",
    "        else:\n",
    "            return \"test\"\n",
    "        \n",
    "    def assign_splits(self):\n",
    "        \"\"\"Add 'Split' column to df.\"\"\"\n",
    "        self.df['Split'] = self.df['Arrival_Date'].apply(lambda d: self.assign_split(d))\n",
    "        \n",
    "    def filter_groups(self):\n",
    "        \"\"\"Filter out groups with too few samples in any split.\"\"\"\n",
    "        group_counts = (\n",
    "            self.df.groupby([\"Product_Type\", \"Market\", \"Split\"])\n",
    "            .size()\n",
    "            .unstack(fill_value=0)\n",
    "            .reset_index()\n",
    "            )\n",
    "        group_counts = group_counts[\n",
    "            ~((group_counts['train'] <= self.thresholds['train']) |\n",
    "              (group_counts['valid'] <= self.thresholds['valid']) |\n",
    "              (group_counts['test'] <= self.thresholds['test']))\n",
    "              ]\n",
    "        self.df = self.df.merge(group_counts, on=['Product_Type', 'Market'], how='right')\n",
    "\n",
    "    def split_datasets(self):\n",
    "        \"\"\"Return train/valid/test DataFrames.\"\"\"\n",
    "        train_df = self.df[self.df['Split'] == 'train']\n",
    "        valid_df = self.df[self.df['Split'] == 'valid']\n",
    "        test_df = self.df[self.df['Split'] == 'test']\n",
    "        return train_df, valid_df, test_df\n",
    "        \n",
    "    \n",
    "    def drop_columns(self, dataframe):\n",
    "        \"\"\"Drop leakage or helper columns safely.\"\"\"\n",
    "        columns_to_drop = ['Split', 'train', 'valid', 'test', 'Modal_Price', 'Max_Price', 'Min_Price']\n",
    "        dataframe = dataframe.drop(columns=columns_to_drop)\n",
    "        return dataframe\n",
    "\n",
    "    def run(self):\n",
    "        \"\"\"Full pipeline: assign splits → filter groups → return cleaned splits.\"\"\"\n",
    "        self.assign_splits()\n",
    "        self.filter_groups()\n",
    "        train_df, valid_df, test_df = self.split_datasets()\n",
    "        return (\n",
    "            self.drop_columns(train_df),\n",
    "            self.drop_columns(valid_df),\n",
    "            self.drop_columns(test_df),\n",
    "        )"
   ]
  },
  {
   "cell_type": "code",
   "execution_count": null,
   "id": "02f88c5d",
   "metadata": {},
   "outputs": [],
   "source": []
  },
  {
   "cell_type": "code",
   "execution_count": null,
   "id": "662e7e8b",
   "metadata": {},
   "outputs": [
    {
     "data": {
      "text/plain": [
       "((140521, 9), (6639, 9), (3677, 9))"
      ]
     },
     "execution_count": 30,
     "metadata": {},
     "output_type": "execute_result"
    }
   ],
   "source": [
    "train_df.shape, valid_df.shape, test_df.shape, "
   ]
  },
  {
   "cell_type": "code",
   "execution_count": 6,
   "id": "48b8d60b",
   "metadata": {},
   "outputs": [
    {
     "data": {
      "text/plain": [
       "((140521, 16), (6639, 16), (3677, 16))"
      ]
     },
     "execution_count": 6,
     "metadata": {},
     "output_type": "execute_result"
    }
   ],
   "source": [
    "train_df.shape, valid_df.shape, test_df.shape, "
   ]
  },
  {
   "cell_type": "code",
   "execution_count": 8,
   "id": "de3cba09",
   "metadata": {},
   "outputs": [
    {
     "data": {
      "text/plain": [
       "((293, 3), (293, 3), (293, 3))"
      ]
     },
     "execution_count": 8,
     "metadata": {},
     "output_type": "execute_result"
    }
   ],
   "source": [
    "train_df.groupby(['Product_Type', 'Market']).size().reset_index().shape, valid_df.groupby(['Product_Type', 'Market']).size().reset_index().shape, test_df.groupby(['Product_Type', 'Market']).size().reset_index().shape,\n",
    "\n"
   ]
  },
  {
   "cell_type": "code",
   "execution_count": 9,
   "id": "72342b06",
   "metadata": {},
   "outputs": [
    {
     "data": {
      "text/plain": [
       "Index(['Product_Type', 'Commodity', 'Variety_Type', 'Arrival_Date', 'Market',\n",
       "       'Is_VFPCK', 'Season', 'Year', 'Modal_Price', 'log_Modal_Price',\n",
       "       'Max_Price', 'Min_Price', 'Split', 'test', 'train', 'valid'],\n",
       "      dtype='object')"
      ]
     },
     "execution_count": 9,
     "metadata": {},
     "output_type": "execute_result"
    }
   ],
   "source": [
    "train_df.columns"
   ]
  },
  {
   "cell_type": "code",
   "execution_count": 42,
   "id": "a3226c85",
   "metadata": {},
   "outputs": [],
   "source": [
    "group_counts = group_counts[\n",
    "    ~((group_counts['train'] <= 100) |\n",
    "      (group_counts['valid'] <= 10) |\n",
    "      (group_counts['test'] <= 5))\n",
    "]"
   ]
  },
  {
   "cell_type": "code",
   "execution_count": 43,
   "id": "a4f4fa94",
   "metadata": {},
   "outputs": [
    {
     "data": {
      "text/plain": [
       "(293, 5)"
      ]
     },
     "execution_count": 43,
     "metadata": {},
     "output_type": "execute_result"
    }
   ],
   "source": [
    "group_counts.shape"
   ]
  },
  {
   "cell_type": "code",
   "execution_count": 38,
   "id": "8a284889",
   "metadata": {},
   "outputs": [
    {
     "data": {
      "text/plain": [
       "(20, 5)"
      ]
     },
     "execution_count": 38,
     "metadata": {},
     "output_type": "execute_result"
    }
   ],
   "source": [
    "group_counts[group_counts['train'] <= 100].shape"
   ]
  },
  {
   "cell_type": "code",
   "execution_count": 39,
   "id": "f1f8a9b3",
   "metadata": {},
   "outputs": [
    {
     "data": {
      "text/plain": [
       "(46, 5)"
      ]
     },
     "execution_count": 39,
     "metadata": {},
     "output_type": "execute_result"
    }
   ],
   "source": [
    "group_counts[group_counts['valid'] <= 10].shape"
   ]
  },
  {
   "cell_type": "code",
   "execution_count": 41,
   "id": "ccfc8094",
   "metadata": {},
   "outputs": [
    {
     "data": {
      "text/plain": [
       "(43, 5)"
      ]
     },
     "execution_count": 41,
     "metadata": {},
     "output_type": "execute_result"
    }
   ],
   "source": [
    "group_counts[group_counts['test'] <= 5].shape"
   ]
  },
  {
   "cell_type": "code",
   "execution_count": null,
   "id": "d36cd532",
   "metadata": {},
   "outputs": [],
   "source": []
  },
  {
   "cell_type": "code",
   "execution_count": 5,
   "id": "9af8ea89",
   "metadata": {},
   "outputs": [
    {
     "data": {
      "text/html": [
       "<div>\n",
       "<style scoped>\n",
       "    .dataframe tbody tr th:only-of-type {\n",
       "        vertical-align: middle;\n",
       "    }\n",
       "\n",
       "    .dataframe tbody tr th {\n",
       "        vertical-align: top;\n",
       "    }\n",
       "\n",
       "    .dataframe thead th {\n",
       "        text-align: right;\n",
       "    }\n",
       "</style>\n",
       "<table border=\"1\" class=\"dataframe\">\n",
       "  <thead>\n",
       "    <tr style=\"text-align: right;\">\n",
       "      <th></th>\n",
       "      <th>important_features</th>\n",
       "      <th>Product_Type</th>\n",
       "      <th>Market</th>\n",
       "      <th>Mean_Commodity_Effect_Size</th>\n",
       "      <th>Mean_Variety_Type_Effect_Size</th>\n",
       "      <th>Mean_Season_Effect_Size</th>\n",
       "      <th>Mean_Market_Effect_Size</th>\n",
       "      <th>Mean_Year_Effect_Size</th>\n",
       "      <th>Total_Records</th>\n",
       "    </tr>\n",
       "  </thead>\n",
       "  <tbody>\n",
       "    <tr>\n",
       "      <th>0</th>\n",
       "      <td>Commodity</td>\n",
       "      <td>Banana|Nendra Bale|Medium</td>\n",
       "      <td>THURAVOOR VFPCK</td>\n",
       "      <td>0.650715</td>\n",
       "      <td>0.00014</td>\n",
       "      <td>0.000149</td>\n",
       "      <td>0.000000</td>\n",
       "      <td>0.000000</td>\n",
       "      <td>65</td>\n",
       "    </tr>\n",
       "    <tr>\n",
       "      <th>1</th>\n",
       "      <td>Commodity</td>\n",
       "      <td>Capsicum|Other|FAQ</td>\n",
       "      <td>Piravam</td>\n",
       "      <td>0.057064</td>\n",
       "      <td>0.00000</td>\n",
       "      <td>0.031460</td>\n",
       "      <td>0.000000</td>\n",
       "      <td>0.008407</td>\n",
       "      <td>502</td>\n",
       "    </tr>\n",
       "    <tr>\n",
       "      <th>2</th>\n",
       "      <td>Commodity|Market</td>\n",
       "      <td>Amaranthus|Amaranthus|FAQ</td>\n",
       "      <td>Aluva</td>\n",
       "      <td>0.152055</td>\n",
       "      <td>0.00000</td>\n",
       "      <td>0.012549</td>\n",
       "      <td>0.745668</td>\n",
       "      <td>0.014132</td>\n",
       "      <td>587</td>\n",
       "    </tr>\n",
       "    <tr>\n",
       "      <th>3</th>\n",
       "      <td>Commodity|Market</td>\n",
       "      <td>Amaranthus|Amaranthus|FAQ</td>\n",
       "      <td>Angamaly</td>\n",
       "      <td>0.152055</td>\n",
       "      <td>0.00000</td>\n",
       "      <td>0.012549</td>\n",
       "      <td>0.745668</td>\n",
       "      <td>0.014132</td>\n",
       "      <td>570</td>\n",
       "    </tr>\n",
       "    <tr>\n",
       "      <th>4</th>\n",
       "      <td>Commodity|Market</td>\n",
       "      <td>Amaranthus|Amaranthus|FAQ</td>\n",
       "      <td>Broadway market</td>\n",
       "      <td>0.152055</td>\n",
       "      <td>0.00000</td>\n",
       "      <td>0.012549</td>\n",
       "      <td>0.745668</td>\n",
       "      <td>0.014132</td>\n",
       "      <td>394</td>\n",
       "    </tr>\n",
       "  </tbody>\n",
       "</table>\n",
       "</div>"
      ],
      "text/plain": [
       "  important_features               Product_Type           Market  \\\n",
       "0          Commodity  Banana|Nendra Bale|Medium  THURAVOOR VFPCK   \n",
       "1          Commodity         Capsicum|Other|FAQ          Piravam   \n",
       "2   Commodity|Market  Amaranthus|Amaranthus|FAQ            Aluva   \n",
       "3   Commodity|Market  Amaranthus|Amaranthus|FAQ         Angamaly   \n",
       "4   Commodity|Market  Amaranthus|Amaranthus|FAQ  Broadway market   \n",
       "\n",
       "   Mean_Commodity_Effect_Size  Mean_Variety_Type_Effect_Size  \\\n",
       "0                    0.650715                        0.00014   \n",
       "1                    0.057064                        0.00000   \n",
       "2                    0.152055                        0.00000   \n",
       "3                    0.152055                        0.00000   \n",
       "4                    0.152055                        0.00000   \n",
       "\n",
       "   Mean_Season_Effect_Size  Mean_Market_Effect_Size  Mean_Year_Effect_Size  \\\n",
       "0                 0.000149                 0.000000               0.000000   \n",
       "1                 0.031460                 0.000000               0.008407   \n",
       "2                 0.012549                 0.745668               0.014132   \n",
       "3                 0.012549                 0.745668               0.014132   \n",
       "4                 0.012549                 0.745668               0.014132   \n",
       "\n",
       "   Total_Records  \n",
       "0             65  \n",
       "1            502  \n",
       "2            587  \n",
       "3            570  \n",
       "4            394  "
      ]
     },
     "execution_count": 5,
     "metadata": {},
     "output_type": "execute_result"
    }
   ],
   "source": [
    "df_grouped.head()"
   ]
  },
  {
   "cell_type": "code",
   "execution_count": null,
   "id": "388397cc",
   "metadata": {},
   "outputs": [],
   "source": []
  }
 ],
 "metadata": {
  "kernelspec": {
   "display_name": ".venv",
   "language": "python",
   "name": "python3"
  },
  "language_info": {
   "codemirror_mode": {
    "name": "ipython",
    "version": 3
   },
   "file_extension": ".py",
   "mimetype": "text/x-python",
   "name": "python",
   "nbconvert_exporter": "python",
   "pygments_lexer": "ipython3",
   "version": "3.10.11"
  }
 },
 "nbformat": 4,
 "nbformat_minor": 5
}
